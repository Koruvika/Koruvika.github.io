{
  "nbformat": 4,
  "nbformat_minor": 0,
  "metadata": {
    "colab": {
      "name": "EstimateConditionNumber.ipynb",
      "provenance": [],
      "collapsed_sections": [],
      "toc_visible": true,
      "authorship_tag": "ABX9TyPRC8pndPYj3vAqGS8hGnx+",
      "include_colab_link": true
    },
    "kernelspec": {
      "name": "python3",
      "display_name": "Python 3"
    },
    "language_info": {
      "name": "python"
    }
  },
  "cells": [
    {
      "cell_type": "markdown",
      "metadata": {
        "id": "view-in-github",
        "colab_type": "text"
      },
      "source": [
        "<a href=\"https://colab.research.google.com/github/Koruvika/Koruvika.github.io/blob/master/EstimateConditionNumber.ipynb\" target=\"_parent\"><img src=\"https://colab.research.google.com/assets/colab-badge.svg\" alt=\"Open In Colab\"/></a>"
      ]
    },
    {
      "cell_type": "code",
      "execution_count": 1,
      "metadata": {
        "id": "TAf79bCwHIRY"
      },
      "outputs": [],
      "source": [
        "import numpy as np"
      ]
    },
    {
      "cell_type": "markdown",
      "source": [
        "# Vấn đề trong giải hệ tuyến tính\n",
        "\n",
        "Giả sử ta cần tìm $x$ trong hệ tuyến tính: \n",
        "\n",
        "$Ax = b$ \n",
        "\n",
        "khi đã biết ma trận $A$ có kích thước mxm và vecto $b$ có độ dài m. \n",
        "\n",
        "Các vecto này khi lưu trong máy tính luôn tồn tại sai số trong việc làm tròn số. Vì thế hệ trong thực tế là: \n",
        " \n",
        "$\\Leftrightarrow A(x + \\delta x) = b + \\delta b$\n",
        "\n",
        "$\\Leftrightarrow Ax + A\\delta x = b + \\delta b$\n",
        "\n",
        "$\\Leftrightarrow A\\delta x = \\delta b$\n",
        "\n",
        "Ta xét ví dụ sau:"
      ],
      "metadata": {
        "id": "_rdP48oQxc3X"
      }
    },
    {
      "cell_type": "code",
      "source": [
        "np.random.seed(42)\n",
        "\n",
        "# tạo ra một ma trận tam giác trên 100x100\n",
        "a = np.random.rand(100,100)\n",
        "A = np.triu(a)\n",
        "\n",
        "# tạo ra vecto x\n",
        "x = np.random.rand(100,)\n",
        "\n",
        "# tính b = Ax\n",
        "b = A.dot(x)\n",
        "\n",
        "# tính x_hat = A^-1 * b\n",
        "x_hat = np.linalg.inv(A) * b"
      ],
      "metadata": {
        "id": "IaObJXN50_Un"
      },
      "execution_count": 2,
      "outputs": []
    },
    {
      "cell_type": "code",
      "source": [
        "# tính infinity_norm(x_hat - x) và infinity_norm(b - A*x_hat)\n",
        "norm1 = np.linalg.norm(x_hat-x, np.inf)\n",
        "norm2 = np.linalg.norm(b - A.dot(x_hat), np.inf)\n",
        "print(norm1, norm2)"
      ],
      "metadata": {
        "colab": {
          "base_uri": "https://localhost:8080/"
        },
        "id": "vL9ol23y0_Wb",
        "outputId": "d860ca8d-46b5-4010-93be-218e520b6547"
      },
      "execution_count": 3,
      "outputs": [
        {
          "output_type": "stream",
          "name": "stdout",
          "text": [
            "1.44063832499248e+17 1282.3788125749993\n"
          ]
        }
      ]
    },
    {
      "cell_type": "markdown",
      "source": [
        "Ở đây, ta có thể thấy rõ:\n",
        "\n",
        "$||\\hat x -x||_\\infty >> ||b -A\\hat x||_\\infty$\n",
        "\n",
        "Nguyên nhân gây ra vấn đề này là:\n",
        "- Lỗi làm tròn số thực dấu phẩy động trong máy tính khiến $b$ trở thành $b + \\delta b$.\n",
        "- Trong hệ tuyến tính trên tồn tại một giá trị $\\kappa(A, b, \\delta b) = ||A||.||A^{-1}||$ được gọi là ***Condition Number*** của hệ tuyến tính. Và ta có quan hệ giữa sai số tương đối $\\frac{\\delta x}{x}$ với sai số tương đối $\\frac{\\delta b}{b}$ như sau:\n",
        "\n",
        "    $\\frac{\\delta x}{x} \\leq \\kappa(A, b, \\delta b) \\frac{\\delta b}{b}$\n",
        "\n",
        "    (bỏ qua bước chứng minh)\n",
        "\n",
        "    ở đây vì ta xây dựng ma trận $A$ với kích thước 100x100 theo phân phối Gaussian với $\\mu = 0$ nên trên đường chéo tồn tại một giá trị xấp xỉ 0 dẫn đến $||A^{-1}||$ rất lớn, dẫn đến sai số tương đối $\\frac{\\delta x}{x}$ có thể rất lớn"
      ],
      "metadata": {
        "id": "3DfSWVvz3vn2"
      }
    },
    {
      "cell_type": "code",
      "source": [
        "normA = np.linalg.norm(A, np.inf)\n",
        "normInvA = np.linalg.norm(np.linalg.inv(A), np.inf)\n",
        "print(\"norm(A) = \", normA) \n",
        "print(\"normInvA(A) = \", normInvA) \n",
        "print(\"normA * normInvA =\", normA*normInvA)"
      ],
      "metadata": {
        "colab": {
          "base_uri": "https://localhost:8080/"
        },
        "id": "Yih0zEd56_zU",
        "outputId": "bd1b5d98-cf73-4416-eac3-e0a0598d643d"
      },
      "execution_count": 4,
      "outputs": [
        {
          "output_type": "stream",
          "name": "stdout",
          "text": [
            "norm(A) =  51.03396146357509\n",
            "normInvA(A) =  1.467655217767065e+17\n",
            "normA * normInvA = 7.49002598253393e+18\n"
          ]
        }
      ]
    },
    {
      "cell_type": "markdown",
      "source": [
        "# Ước tính ***Condition Number***\n",
        "\n",
        "Không chỉ giải hệ tuyến tính, nếu có thể, ta nên cố gắng tìm Condition Number, điều này sẽ cung cấp những phản hồi hữu ích về điều kiện (độ nhạy cảm với sự thay đổi đầu vào) của vấn đề.\n",
        "\n",
        "\n",
        "Dễ thấy ***Condition Number*** $\\kappa(A, b, \\delta b) = ||A||.||A^{-1}||$ yêu cầu tính $||A^{-1}||$ với một chi phí đắt $O(n^3)$. Điều này dẫn đến câu hỏi: \"Liệu có phương pháp nào dùng để ước tính Condition Number với chi phí rẻ hơn và đạt được độ chính xác tương đối và tin cậy hay không?\"\n",
        "\n",
        "## Xây dựng giải pháp:\n",
        "Đầu tiên, ta có 2 tính chất sau: \n",
        "- $||A||_\\infty = max_{x \\in S} ||Ax||_\\infty$ với $S = \\{x = \\{x_0,x_1,...\\} | x_i \\in \\{-1,1\\}\\}$\n",
        "- $||Ax|| \\leq ||A||.||x||$\n",
        "\n",
        "\n",
        "$ => ||A^{-1}||_\\infty = max_{x \\in T} ||x||_\\infty$ với $T$ là tập hợp các giá trị x thỏa mãn $Ax = b$ với $b \\in S$\n",
        "\n",
        "Ta cần xây dựng vecto $b$ sao cho $||x||_{\\infty}$ là lớn nhất có thể, từ đó ta có thể xác định được $||A^{-1}||_{\\infty}$\n",
        "\n",
        "Chiến lược:\n",
        "- Ta chọn $b_{m-1} = 1$. Vì ma trận A là ma trận tam giác trên, ta có thể tính được $x_{m-1}$ từ $b_{m-1}$\n",
        "- Bây giờ ta có:\n",
        "    \n",
        "    $A_{m-2,m-2}.x_{m-2}+A_{m-2,m-1}.x_{m-1}=b_{m-2}$\n",
        "    với $x_{m-1}$ đã biết và $b_{m-2}$ có thể chọn theo chiến lược, ta có thể tính được $x_{m-2}$. Chiến lược ở đây là chọn  $b_{m-2} = \\{ -1, 1 \\}$ sao cho $x_{m-2}$ là lớn nhất.\n",
        "    \n",
        "Và cứ tương tự thế... ta có thể tìm được vecto x với độ phức tạp $O(n^2)$ vậy ta tìm được $||A^{-1}||_{\\infty}$ với độ phức tạp $O(n^2)$\n",
        "\n",
        "\n"
      ],
      "metadata": {
        "id": "bSPndz7EHRHR"
      }
    },
    {
      "cell_type": "code",
      "source": [
        "print(\"Infinity Norm of Inverse Matrix of A: \", normInvA) "
      ],
      "metadata": {
        "id": "xpQowUHvHPlF",
        "colab": {
          "base_uri": "https://localhost:8080/"
        },
        "outputId": "d1fd2033-458a-4d0a-ba1f-b261ee004e12"
      },
      "execution_count": 5,
      "outputs": [
        {
          "output_type": "stream",
          "name": "stdout",
          "text": [
            "Infinity Norm of Inverse Matrix of A:  1.467655217767065e+17\n"
          ]
        }
      ]
    },
    {
      "cell_type": "markdown",
      "source": [
        "## Ví dụ minh họa"
      ],
      "metadata": {
        "id": "estHZTcDMV65"
      }
    },
    {
      "cell_type": "code",
      "source": [
        "# tạo ma trận B có kích thước 20x20\n",
        "B = np.arange(-200,200).reshape(20,20)\n",
        "B = np.triu(B)\n",
        "B"
      ],
      "metadata": {
        "colab": {
          "base_uri": "https://localhost:8080/"
        },
        "id": "tVsQ2QRtGIrW",
        "outputId": "0813b6ea-e82b-42b6-c02f-f5c2f19fa09b"
      },
      "execution_count": 50,
      "outputs": [
        {
          "output_type": "execute_result",
          "data": {
            "text/plain": [
              "array([[-200, -199, -198, -197, -196, -195, -194, -193, -192, -191, -190,\n",
              "        -189, -188, -187, -186, -185, -184, -183, -182, -181],\n",
              "       [   0, -179, -178, -177, -176, -175, -174, -173, -172, -171, -170,\n",
              "        -169, -168, -167, -166, -165, -164, -163, -162, -161],\n",
              "       [   0,    0, -158, -157, -156, -155, -154, -153, -152, -151, -150,\n",
              "        -149, -148, -147, -146, -145, -144, -143, -142, -141],\n",
              "       [   0,    0,    0, -137, -136, -135, -134, -133, -132, -131, -130,\n",
              "        -129, -128, -127, -126, -125, -124, -123, -122, -121],\n",
              "       [   0,    0,    0,    0, -116, -115, -114, -113, -112, -111, -110,\n",
              "        -109, -108, -107, -106, -105, -104, -103, -102, -101],\n",
              "       [   0,    0,    0,    0,    0,  -95,  -94,  -93,  -92,  -91,  -90,\n",
              "         -89,  -88,  -87,  -86,  -85,  -84,  -83,  -82,  -81],\n",
              "       [   0,    0,    0,    0,    0,    0,  -74,  -73,  -72,  -71,  -70,\n",
              "         -69,  -68,  -67,  -66,  -65,  -64,  -63,  -62,  -61],\n",
              "       [   0,    0,    0,    0,    0,    0,    0,  -53,  -52,  -51,  -50,\n",
              "         -49,  -48,  -47,  -46,  -45,  -44,  -43,  -42,  -41],\n",
              "       [   0,    0,    0,    0,    0,    0,    0,    0,  -32,  -31,  -30,\n",
              "         -29,  -28,  -27,  -26,  -25,  -24,  -23,  -22,  -21],\n",
              "       [   0,    0,    0,    0,    0,    0,    0,    0,    0,  -11,  -10,\n",
              "          -9,   -8,   -7,   -6,   -5,   -4,   -3,   -2,   -1],\n",
              "       [   0,    0,    0,    0,    0,    0,    0,    0,    0,    0,   10,\n",
              "          11,   12,   13,   14,   15,   16,   17,   18,   19],\n",
              "       [   0,    0,    0,    0,    0,    0,    0,    0,    0,    0,    0,\n",
              "          31,   32,   33,   34,   35,   36,   37,   38,   39],\n",
              "       [   0,    0,    0,    0,    0,    0,    0,    0,    0,    0,    0,\n",
              "           0,   52,   53,   54,   55,   56,   57,   58,   59],\n",
              "       [   0,    0,    0,    0,    0,    0,    0,    0,    0,    0,    0,\n",
              "           0,    0,   73,   74,   75,   76,   77,   78,   79],\n",
              "       [   0,    0,    0,    0,    0,    0,    0,    0,    0,    0,    0,\n",
              "           0,    0,    0,   94,   95,   96,   97,   98,   99],\n",
              "       [   0,    0,    0,    0,    0,    0,    0,    0,    0,    0,    0,\n",
              "           0,    0,    0,    0,  115,  116,  117,  118,  119],\n",
              "       [   0,    0,    0,    0,    0,    0,    0,    0,    0,    0,    0,\n",
              "           0,    0,    0,    0,    0,  136,  137,  138,  139],\n",
              "       [   0,    0,    0,    0,    0,    0,    0,    0,    0,    0,    0,\n",
              "           0,    0,    0,    0,    0,    0,  157,  158,  159],\n",
              "       [   0,    0,    0,    0,    0,    0,    0,    0,    0,    0,    0,\n",
              "           0,    0,    0,    0,    0,    0,    0,  178,  179],\n",
              "       [   0,    0,    0,    0,    0,    0,    0,    0,    0,    0,    0,\n",
              "           0,    0,    0,    0,    0,    0,    0,    0,  199]])"
            ]
          },
          "metadata": {},
          "execution_count": 50
        }
      ]
    },
    {
      "cell_type": "code",
      "source": [
        "# thuật toán (tham lam)\n",
        "# Bz = y\n",
        "len = 20\n",
        "z = np.zeros(len)\n",
        "for i in range(len):\n",
        "    row = len - 1 - i\n",
        "    p = 1\n",
        "    n = -1\n",
        "    k = p\n",
        "    for j in range(row + 1, len):\n",
        "        p = p - B[row][j]*z[j]\n",
        "        n = p - B[row][j]*z[j]\n",
        "        if(np.abs(p) > np.abs(n)):\n",
        "            k = p\n",
        "        else:\n",
        "            k = n\n",
        "    z[row] = k/B[row][row]"
      ],
      "metadata": {
        "id": "97HWPBBvJ7kG"
      },
      "execution_count": 51,
      "outputs": []
    },
    {
      "cell_type": "code",
      "source": [
        "normZ = np.linalg.norm(z, np.inf)\n",
        "normInvB = np.linalg.norm(np.linalg.inv(B), np.inf)\n",
        "print(\"Infinity Norm of Vector Z: \", normZ) \n",
        "print(\"Infinity Norm of Inverse Matrix of B: \", normInvB) "
      ],
      "metadata": {
        "colab": {
          "base_uri": "https://localhost:8080/"
        },
        "id": "PNFQRiJZKSh_",
        "outputId": "9ba83dae-6450-472d-bed6-c929854c8739"
      },
      "execution_count": 54,
      "outputs": [
        {
          "output_type": "stream",
          "name": "stdout",
          "text": [
            "Infinity Norm of Vector Z:  0.16594683059342094\n",
            "Infinity Norm of Inverse Matrix of B:  0.20073653401449637\n"
          ]
        }
      ]
    },
    {
      "cell_type": "code",
      "source": [
        ""
      ],
      "metadata": {
        "id": "14It0WHeNSLb"
      },
      "execution_count": null,
      "outputs": []
    }
  ]
}