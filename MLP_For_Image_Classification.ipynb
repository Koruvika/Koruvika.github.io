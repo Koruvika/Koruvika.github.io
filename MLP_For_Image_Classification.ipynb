{
  "nbformat": 4,
  "nbformat_minor": 0,
  "metadata": {
    "colab": {
      "name": "MLP_For_Image_Classification.ipynb",
      "provenance": [],
      "collapsed_sections": [],
      "toc_visible": true,
      "authorship_tag": "ABX9TyPmciJO5EGOA53Na0Tzno07",
      "include_colab_link": true
    },
    "kernelspec": {
      "name": "python3",
      "display_name": "Python 3"
    },
    "language_info": {
      "name": "python"
    }
  },
  "cells": [
    {
      "cell_type": "markdown",
      "metadata": {
        "id": "view-in-github",
        "colab_type": "text"
      },
      "source": [
        "<a href=\"https://colab.research.google.com/github/Koruvika/Koruvika.github.io/blob/master/MLP_For_Image_Classification.ipynb\" target=\"_parent\"><img src=\"https://colab.research.google.com/assets/colab-badge.svg\" alt=\"Open In Colab\"/></a>"
      ]
    },
    {
      "cell_type": "code",
      "execution_count": null,
      "metadata": {
        "id": "8COIXXmTTDlh"
      },
      "outputs": [],
      "source": [
        "import tensorflow as tf\n",
        "import tensorflow.keras as keras"
      ]
    },
    {
      "cell_type": "code",
      "source": [
        "import cv2\n",
        "import numpy as np\n",
        "import pandas as pd\n",
        "\n",
        "import matplotlib.pyplot as plt"
      ],
      "metadata": {
        "id": "trufEYD4Tdnb"
      },
      "execution_count": null,
      "outputs": []
    },
    {
      "cell_type": "markdown",
      "source": [
        "## Load Data"
      ],
      "metadata": {
        "id": "OWi3qDxAUI5A"
      }
    },
    {
      "cell_type": "code",
      "source": [
        "(X_train_full, y_train_full) , (X_test, y_test) = keras.datasets.cifar10.load_data()"
      ],
      "metadata": {
        "colab": {
          "base_uri": "https://localhost:8080/"
        },
        "id": "gqObnKfNTMIx",
        "outputId": "21ca34f1-b56b-4a77-d9b4-27736ece6134"
      },
      "execution_count": null,
      "outputs": [
        {
          "output_type": "stream",
          "name": "stdout",
          "text": [
            "Downloading data from https://www.cs.toronto.edu/~kriz/cifar-10-python.tar.gz\n",
            "170500096/170498071 [==============================] - 4s 0us/step\n",
            "170508288/170498071 [==============================] - 4s 0us/step\n"
          ]
        }
      ]
    },
    {
      "cell_type": "code",
      "source": [
        "X_train_full.shape"
      ],
      "metadata": {
        "colab": {
          "base_uri": "https://localhost:8080/"
        },
        "id": "xW6ezuZkTW7l",
        "outputId": "3c6f1cff-b670-40cf-8d4a-9490f9148dc8"
      },
      "execution_count": null,
      "outputs": [
        {
          "output_type": "execute_result",
          "data": {
            "text/plain": [
              "(50000, 32, 32, 3)"
            ]
          },
          "metadata": {},
          "execution_count": 4
        }
      ]
    },
    {
      "cell_type": "code",
      "source": [
        "y_label = ['airplane', 'automobile', 'bird', 'cat', 'deer', 'dog', 'frog', 'horse', 'ship', 'truck']"
      ],
      "metadata": {
        "id": "SIPYXO0BUlGN"
      },
      "execution_count": null,
      "outputs": []
    },
    {
      "cell_type": "code",
      "source": [
        "plt.imshow(X_train_full[0])\n",
        "plt.axis('off')\n",
        "plt.title(y_label[y_train_full[0][0]])\n",
        "\n",
        "plt.show()"
      ],
      "metadata": {
        "colab": {
          "base_uri": "https://localhost:8080/",
          "height": 264
        },
        "id": "ZqhQpm1iTZtH",
        "outputId": "2882d6d0-bda6-4a74-d3d4-3db15dc1892a"
      },
      "execution_count": null,
      "outputs": [
        {
          "output_type": "display_data",
          "data": {
            "image/png": "[encoded data removed]",
            "text/plain": [
              "<Figure size 432x288 with 1 Axes>"
            ]
          },
          "metadata": {
            "needs_background": "light"
          }
        }
      ]
    },
    {
      "cell_type": "code",
      "source": [
        "X_train = X_train_full[5000:].astype(np.float32)\n",
        "y_train = y_train_full[5000:].reshape(-1,)\n",
        "\n",
        "X_valid = X_train_full[:5000].astype(np.float32)\n",
        "y_valid = y_train_full[:5000].reshape(-1,)\n",
        "\n",
        "X_test = X_test.astype(np.float32)\n",
        "y_test = y_test.reshape(-1,)"
      ],
      "metadata": {
        "id": "vXG_CgJSWRug"
      },
      "execution_count": null,
      "outputs": []
    },
    {
      "cell_type": "markdown",
      "source": [
        "## Demo: Classify Images with MLP"
      ],
      "metadata": {
        "id": "fz561nkjVONL"
      }
    },
    {
      "cell_type": "code",
      "source": [
        "basic_mlp = keras.models.Sequential([\n",
        "    keras.layers.Flatten(),\n",
        "    keras.layers.BatchNormalization(),\n",
        "    keras.layers.Dense(100, activation='gelu'),\n",
        "    keras.layers.Dropout(0.2),\n",
        "    keras.layers.BatchNormalization(),\n",
        "    keras.layers.Dense(100, activation='gelu'),\n",
        "    keras.layers.Dropout(0.2),\n",
        "    keras.layers.BatchNormalization(),\n",
        "    keras.layers.Dense(100, activation='gelu'),\n",
        "    keras.layers.Dropout(0.2),\n",
        "    keras.layers.BatchNormalization(),\n",
        "    keras.layers.Dense(100, activation='gelu'),\n",
        "    keras.layers.Dropout(0.2),\n",
        "    keras.layers.Dense(10, activation='softmax')\n",
        "])"
      ],
      "metadata": {
        "id": "bAIpCEZWVCE-"
      },
      "execution_count": null,
      "outputs": []
    },
    {
      "cell_type": "code",
      "source": [
        "n_epochs = 100\n",
        "batch_size = 512\n",
        "learning_rate = 1e-3\n",
        "\n",
        "basic_mlp.compile(optimizer=keras.optimizers.Nadam(learning_rate=learning_rate), \n",
        "                  metrics=['accuracy'], \n",
        "                  loss='sparse_categorical_crossentropy')\n",
        "\n",
        "history_1 = basic_mlp.fit(X_train, y_train, epochs=n_epochs, batch_size=batch_size, validation_data=[X_valid, y_valid])"
      ],
      "metadata": {
        "colab": {
          "base_uri": "https://localhost:8080/"
        },
        "id": "Cht2Aa_GWEU0",
        "outputId": "aa1c132c-551c-4e74-8aff-2c34b82998f8"
      },
      "execution_count": null,
      "outputs": [
        {
          "output_type": "stream",
          "name": "stdout",
          "text": [
            "Epoch 1/20\n",
            "88/88 [==============================] - 8s 52ms/step - loss: 2.0234 - accuracy: 0.2805 - val_loss: 1.9285 - val_accuracy: 0.3138\n",
            "Epoch 2/20\n",
            "88/88 [==============================] - 4s 48ms/step - loss: 1.7435 - accuracy: 0.3743 - val_loss: 1.5808 - val_accuracy: 0.4328\n",
            "Epoch 3/20\n",
            "88/88 [==============================] - 4s 49ms/step - loss: 1.6405 - accuracy: 0.4121 - val_loss: 1.4945 - val_accuracy: 0.4668\n",
            "Epoch 4/20\n",
            "88/88 [==============================] - 4s 48ms/step - loss: 1.5796 - accuracy: 0.4337 - val_loss: 1.4538 - val_accuracy: 0.4774\n",
            "Epoch 5/20\n",
            "88/88 [==============================] - 4s 49ms/step - loss: 1.5340 - accuracy: 0.4509 - val_loss: 1.4370 - val_accuracy: 0.4818\n",
            "Epoch 6/20\n",
            "88/88 [==============================] - 4s 49ms/step - loss: 1.4966 - accuracy: 0.4665 - val_loss: 1.4287 - val_accuracy: 0.4922\n",
            "Epoch 7/20\n",
            "88/88 [==============================] - 4s 49ms/step - loss: 1.4591 - accuracy: 0.4784 - val_loss: 1.3940 - val_accuracy: 0.4998\n",
            "Epoch 8/20\n",
            "88/88 [==============================] - 4s 50ms/step - loss: 1.4302 - accuracy: 0.4864 - val_loss: 1.3731 - val_accuracy: 0.5018\n",
            "Epoch 9/20\n",
            "88/88 [==============================] - 4s 49ms/step - loss: 1.4033 - accuracy: 0.5008 - val_loss: 1.3739 - val_accuracy: 0.5056\n",
            "Epoch 10/20\n",
            "88/88 [==============================] - 4s 50ms/step - loss: 1.3755 - accuracy: 0.5088 - val_loss: 1.3498 - val_accuracy: 0.5148\n",
            "Epoch 11/20\n",
            "88/88 [==============================] - 4s 49ms/step - loss: 1.3556 - accuracy: 0.5163 - val_loss: 1.3350 - val_accuracy: 0.5230\n",
            "Epoch 12/20\n",
            "88/88 [==============================] - 4s 50ms/step - loss: 1.3410 - accuracy: 0.5220 - val_loss: 1.3534 - val_accuracy: 0.5178\n",
            "Epoch 13/20\n",
            "88/88 [==============================] - 4s 49ms/step - loss: 1.3206 - accuracy: 0.5280 - val_loss: 1.3284 - val_accuracy: 0.5240\n",
            "Epoch 14/20\n",
            "88/88 [==============================] - 4s 50ms/step - loss: 1.3014 - accuracy: 0.5385 - val_loss: 1.3253 - val_accuracy: 0.5228\n",
            "Epoch 15/20\n",
            "88/88 [==============================] - 4s 49ms/step - loss: 1.2831 - accuracy: 0.5406 - val_loss: 1.3357 - val_accuracy: 0.5180\n",
            "Epoch 16/20\n",
            "88/88 [==============================] - 4s 50ms/step - loss: 1.2681 - accuracy: 0.5475 - val_loss: 1.3290 - val_accuracy: 0.5322\n",
            "Epoch 17/20\n",
            "88/88 [==============================] - 4s 49ms/step - loss: 1.2561 - accuracy: 0.5506 - val_loss: 1.3204 - val_accuracy: 0.5314\n",
            "Epoch 18/20\n",
            "88/88 [==============================] - 4s 49ms/step - loss: 1.2391 - accuracy: 0.5588 - val_loss: 1.3281 - val_accuracy: 0.5288\n",
            "Epoch 19/20\n",
            "88/88 [==============================] - 4s 49ms/step - loss: 1.2313 - accuracy: 0.5625 - val_loss: 1.3386 - val_accuracy: 0.5202\n",
            "Epoch 20/20\n",
            "88/88 [==============================] - 4s 49ms/step - loss: 1.2153 - accuracy: 0.5702 - val_loss: 1.3224 - val_accuracy: 0.5308\n"
          ]
        }
      ]
    },
    {
      "cell_type": "code",
      "source": [
        "basic_mlp.evaluate(X_test, y_test)"
      ],
      "metadata": {
        "colab": {
          "base_uri": "https://localhost:8080/"
        },
        "id": "vZ-q_Yi_Y_yK",
        "outputId": "e71ab8a7-2d5c-4a5a-8c85-06addbd53715"
      },
      "execution_count": null,
      "outputs": [
        {
          "output_type": "stream",
          "name": "stdout",
          "text": [
            "313/313 [==============================] - 1s 2ms/step - loss: 1.5353 - accuracy: 0.5122\n"
          ]
        },
        {
          "output_type": "execute_result",
          "data": {
            "text/plain": [
              "[1.5353482961654663, 0.5121999979019165]"
            ]
          },
          "metadata": {},
          "execution_count": 26
        }
      ]
    },
    {
      "cell_type": "code",
      "source": [
        "plt.plot(history_1.history['loss'])\n",
        "plt.plot(history_1.history['val_loss'])\n",
        "\n",
        "plt.legend(['loss', 'val_loss'])\n",
        "plt.show()"
      ],
      "metadata": {
        "colab": {
          "base_uri": "https://localhost:8080/",
          "height": 265
        },
        "id": "L5ZkIyDkaFlo",
        "outputId": "60256ebf-bd19-4f35-84a9-1c343706fe1f"
      },
      "execution_count": null,
      "outputs": [
        {
          "output_type": "display_data",
          "data": {
            "image/png": "[encoded data removed]",
            "text/plain": [
              "<Figure size 432x288 with 1 Axes>"
            ]
          },
          "metadata": {
            "needs_background": "light"
          }
        }
      ]
    },
    {
      "cell_type": "code",
      "source": [
        "plt.plot(history_1.history['accuracy'])\n",
        "plt.plot(history_1.history['val_accuracy'])\n",
        "\n",
        "plt.legend(['accuracy', 'val_accuracy'])\n",
        "plt.show()"
      ],
      "metadata": {
        "colab": {
          "base_uri": "https://localhost:8080/",
          "height": 266
        },
        "id": "i8VWAgrEam4C",
        "outputId": "e54d2bfa-7cf6-4d8c-8d94-0bfae616e582"
      },
      "execution_count": null,
      "outputs": [
        {
          "output_type": "display_data",
          "data": {
            "image/png": "[encoded data removed]",
            "text/plain": [
              "<Figure size 432x288 with 1 Axes>"
            ]
          },
          "metadata": {
            "needs_background": "light"
          }
        }
      ]
    },
    {
      "cell_type": "code",
      "source": [
        ""
      ],
      "metadata": {
        "id": "KLanH-mHbKI-"
      },
      "execution_count": null,
      "outputs": []
    },
    {
      "cell_type": "markdown",
      "source": [
        "### Comment:\n",
        "Model will can learning but be overfitting\n",
        "\n",
        "Valid Accuracy ~ 53%\n",
        "\n",
        "Test Accuracy ~ 51%"
      ],
      "metadata": {
        "id": "hwp-5WjpbLjD"
      }
    },
    {
      "cell_type": "markdown",
      "source": [
        "## Mixer-MLP"
      ],
      "metadata": {
        "id": "hibhyE1DblPD"
      }
    },
    {
      "cell_type": "code",
      "source": [
        "class MLPBlock(keras.Model):\n",
        "    def __init__(self, mlp_dim, **kwargs):\n",
        "        super(MLPBlock, self).__init__(**kwargs)\n",
        "        self.mlp_dim = mlp_dim\n",
        "    def call(self, X):\n",
        "        y = keras.layers.Dense(self.mlp_dim)(X)\n",
        "        y = keras.activations.gelu()(y)\n",
        "        return keras.layers.Dense(X.shape[-1])(y)"
      ],
      "metadata": {
        "id": "sZ55qmEqbcI7"
      },
      "execution_count": null,
      "outputs": []
    },
    {
      "cell_type": "code",
      "source": [
        "class MixerMLP(keras.Model):\n",
        "    def __init__(self, tokens_mlp_dim, channels_mlp_dim, **kwargs):\n",
        "        super(MixerMLP, self).__init__(**kwargs)\n",
        "        self.tokens_mlp_dim = tokens_mlp_dim\n",
        "        self.channels_mlp_dim = channels_mlp_dim\n",
        "    def call(self, X):\n",
        "        y = keras.layers.LayerNormalization()(X)\n",
        "        y = tf.linalg.matrix_transpose(y)\n",
        "        y = MLPBlock(self.tokens_mlp_dim)(y)\n",
        "        y = tf.linalg.matrix_transpose(y)\n",
        "        X = X + y\n",
        "        y = keras.layers.LayerNormalization()(X)\n",
        "        y = MLPBlock(self.channels_mlp_dim)(y)\n",
        "        return X + y"
      ],
      "metadata": {
        "id": "SksBtRqnhr5M"
      },
      "execution_count": null,
      "outputs": []
    },
    {
      "cell_type": "code",
      "source": [
        "mixer_layer = MixerMLP()"
      ],
      "metadata": {
        "id": "0QuNFj2wjl6a"
      },
      "execution_count": null,
      "outputs": []
    }
  ]
}